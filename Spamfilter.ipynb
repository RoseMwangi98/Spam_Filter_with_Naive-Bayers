{
 "cells": [
  {
   "cell_type": "markdown",
   "metadata": {},
   "source": [
    "## CLASSIFICATION OF MESSAGES AS EITHER SPAM OR NON-SPAM\n",
    "\n",
    "The purpose of the project is to classify  a dataset od messages as their spam or non-spam, to accurately classify the message the following has to be achieved;\n",
    "S\n",
    "To classify messages as spam or non-spam:\n",
    "\n",
    "1. Learns how humans classify messages.\n",
    "\n",
    "2. Uses that human knowledge to estimate probabilities for new messages — probabilities for spam and non-spam.\n"
   ]
  },
  {
   "cell_type": "code",
   "execution_count": null,
   "metadata": {},
   "outputs": [],
   "source": []
  }
 ],
 "metadata": {
  "kernelspec": {
   "display_name": "Python 3",
   "language": "python",
   "name": "python3"
  },
  "language_info": {
   "name": "python",
   "version": "3.11.2"
  },
  "orig_nbformat": 4
 },
 "nbformat": 4,
 "nbformat_minor": 2
}
